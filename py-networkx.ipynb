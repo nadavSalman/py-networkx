{
 "cells": [
  {
   "cell_type": "code",
   "execution_count": 2,
   "metadata": {},
   "outputs": [],
   "source": [
    "import pprint as pp\n",
    "from kubernetes import client, config"
   ]
  },
  {
   "cell_type": "code",
   "execution_count": 3,
   "metadata": {},
   "outputs": [],
   "source": [
    "\n",
    "def extracted_pods_data(k8s_client: client.CoreV1Api):\n",
    "    all_namespases_pods: list = k8s_client.list_pod_for_all_namespaces().to_dict().get('items')\n",
    "    all_pods_extract_data = []\n",
    "    for pod in all_namespases_pods:\n",
    "        pod_volumes = []\n",
    "        \n",
    "        # crean not extis volumes\n",
    "        for volume in pod['spec']['volumes']:\n",
    "            instance_volume = {\n",
    "                'name': volume['name']\n",
    "            }\n",
    "            for key, value in volume.items():\n",
    "                if value is not None:\n",
    "                    instance_volume[key] = value\n",
    "            pod_volumes.append(instance_volume)\n",
    "            \n",
    "        all_pods_extract_data.append( {\n",
    "            'name': pod['metadata']['name'],\n",
    "            'namespace': pod['metadata']['namespace'],\n",
    "            'labels': pod['metadata']['labels'],\n",
    "            'volume': pod_volumes,\n",
    "        })\n",
    "    return all_pods_extract_data"
   ]
  },
  {
   "cell_type": "code",
   "execution_count": 4,
   "metadata": {},
   "outputs": [
    {
     "name": "stdout",
     "output_type": "stream",
     "text": [
      "{'labels': {'app': 'local-path-provisioner', 'pod-template-hash': '988d74bc'},\n",
      " 'name': 'local-path-provisioner-988d74bc-h9qc5',\n",
      " 'namespace': 'local-path-storage',\n",
      " 'volume': [{'config_map': {'default_mode': 420,\n",
      "                            'items': None,\n",
      "                            'name': 'local-path-config',\n",
      "                            'optional': None},\n",
      "             'name': 'config-volume'},\n",
      "            {'name': 'kube-api-access-8nznk',\n",
      "             'projected': {'default_mode': 420,\n",
      "                           'sources': [{'cluster_trust_bundle': None,\n",
      "                                        'config_map': None,\n",
      "                                        'downward_api': None,\n",
      "                                        'secret': None,\n",
      "                                        'service_account_token': {'audience': None,\n",
      "                                                                  'expiration_seconds': 3607,\n",
      "                                                                  'path': 'token'}},\n",
      "                                       {'cluster_trust_bundle': None,\n",
      "                                        'config_map': {'items': [{'key': 'ca.crt',\n",
      "                                                                  'mode': None,\n",
      "                                                                  'path': 'ca.crt'}],\n",
      "                                                       'name': 'kube-root-ca.crt',\n",
      "                                                       'optional': None},\n",
      "                                        'downward_api': None,\n",
      "                                        'secret': None,\n",
      "                                        'service_account_token': None},\n",
      "                                       {'cluster_trust_bundle': None,\n",
      "                                        'config_map': None,\n",
      "                                        'downward_api': {'items': [{'field_ref': {'api_version': 'v1',\n",
      "                                                                                  'field_path': 'metadata.namespace'},\n",
      "                                                                    'mode': None,\n",
      "                                                                    'path': 'namespace',\n",
      "                                                                    'resource_field_ref': None}]},\n",
      "                                        'secret': None,\n",
      "                                        'service_account_token': None}]}}]}\n",
      "{'labels': {'component': 'kube-scheduler', 'tier': 'control-plane'},\n",
      " 'name': 'kube-scheduler-kind-control-plane',\n",
      " 'namespace': 'kube-system',\n",
      " 'volume': [{'host_path': {'path': '/etc/kubernetes/scheduler.conf',\n",
      "                           'type': 'FileOrCreate'},\n",
      "             'name': 'kubeconfig'}]}\n"
     ]
    }
   ],
   "source": [
    "config.load_kube_config()\n",
    "k8s_client = client.CoreV1Api()\n",
    "    \n",
    "all_pods_extract_data = extracted_pods_data(k8s_client)\n",
    "pp.pprint(all_pods_extract_data[-1])\n",
    "pp.pprint(all_pods_extract_data[-2])"
   ]
  },
  {
   "cell_type": "markdown",
   "metadata": {},
   "source": [
    "# Hendel Projected Volume"
   ]
  },
  {
   "cell_type": "code",
   "execution_count": 5,
   "metadata": {},
   "outputs": [],
   "source": [
    "pod_semple = {'labels': {'app': 'local-path-provisioner', 'pod-template-hash': '988d74bc'},\n",
    " 'name': 'local-path-provisioner-988d74bc-dq25g',\n",
    " 'namespace': 'local-path-storage',\n",
    " 'volume': [{'config_map': {'default_mode': 420,\n",
    "                            'items': None,\n",
    "                            'name': 'local-path-config',\n",
    "                            'optional': None},\n",
    "             'name': 'config-volume'},\n",
    "            {'name': 'kube-api-access-hkv6c',\n",
    "             'projected': {'default_mode': 420,\n",
    "                           'sources': [{'cluster_trust_bundle': None,\n",
    "                                        'config_map': None,\n",
    "                                        'downward_api': None,\n",
    "                                        'secret': None,\n",
    "                                        'service_account_token': {'audience': None,\n",
    "                                                                  'expiration_seconds': 3607,\n",
    "                                                                  'path': 'token'}},\n",
    "                                       {'cluster_trust_bundle': None,\n",
    "                                        'config_map': {'items': [{'key': 'ca.crt',\n",
    "                                                                  'mode': None,\n",
    "                                                                  'path': 'ca.crt'}],\n",
    "                                                       'name': 'kube-root-ca.crt',\n",
    "                                                       'optional': None},\n",
    "                                        'downward_api': None,\n",
    "                                        'secret': None,\n",
    "                                        'service_account_token': None},\n",
    "                                       {'cluster_trust_bundle': None,\n",
    "                                        'config_map': None,\n",
    "                                        'downward_api': {'items': [{'field_ref': {'api_version': 'v1',\n",
    "                                                                                  'field_path': 'metadata.namespace'},\n",
    "                                                                    'mode': None,\n",
    "                                                                    'path': 'namespace',\n",
    "                                                                    'resource_field_ref': None}]},\n",
    "                                        'secret': None,\n",
    "                                        'service_account_token': None}]}}]}\n",
    "\n",
    "\n"
   ]
  },
  {
   "cell_type": "code",
   "execution_count": 6,
   "metadata": {},
   "outputs": [],
   "source": [
    "# Display Pods graph"
   ]
  },
  {
   "cell_type": "code",
   "execution_count": 15,
   "metadata": {},
   "outputs": [
    {
     "name": "stdout",
     "output_type": "stream",
     "text": [
      "['__class__', '__contains__', '__delattr__', '__dict__', '__dir__', '__doc__', '__eq__', '__format__', '__ge__', '__getattribute__', '__getitem__', '__gt__', '__hash__', '__init__', '__init_subclass__', '__iter__', '__le__', '__len__', '__lt__', '__module__', '__ne__', '__networkx_cache__', '__new__', '__reduce__', '__reduce_ex__', '__repr__', '__setattr__', '__sizeof__', '__str__', '__subclasshook__', '__weakref__', '_adj', '_node', 'add_edge', 'add_edges_from', 'add_node', 'add_nodes_from', 'add_weighted_edges_from', 'adj', 'adjacency', 'adjlist_inner_dict_factory', 'adjlist_outer_dict_factory', 'clear', 'clear_edges', 'copy', 'degree', 'edge_attr_dict_factory', 'edge_subgraph', 'edges', 'get_edge_data', 'graph', 'graph_attr_dict_factory', 'has_edge', 'has_node', 'is_directed', 'is_multigraph', 'name', 'nbunch_iter', 'neighbors', 'node_attr_dict_factory', 'node_dict_factory', 'nodes', 'number_of_edges', 'number_of_nodes', 'order', 'remove_edge', 'remove_edges_from', 'remove_node', 'remove_nodes_from', 'size', 'subgraph', 'to_directed', 'to_directed_class', 'to_undirected', 'to_undirected_class', 'update']\n"
     ]
    }
   ],
   "source": [
    "# Create Pod leve graph \n",
    "import itertools\n",
    "import networkx as nx\n",
    "from pyvis import network as net\n",
    "import uuid\n",
    "\n",
    "random_uuid = uuid.uuid4()\n",
    "\n",
    "g = net.Network(notebook=True,cdn_resources=\"in_line\",bgcolor=\"#222222\", font_color=\"white\") # Use this set of params in the service\n",
    "# g.show_buttons(filter_=['physics'])\n",
    "\n",
    "# nxg = nx.complete_graph(10)\n",
    "nxg = nx.Graph()\n",
    "\n",
    "green = '#00e673'\n",
    "volume_color = '#33bbff'\n",
    "\n",
    "volume_img_url = \"https://github.com/kubernetes/community/blob/master/icons/png/resources/labeled/vol-128.png?raw=true\"\n",
    "pod_img_url = \"https://github.com/kubernetes/community/blob/master/icons/png/resources/labeled/pod-128.png?raw=true\"\n",
    "\n",
    "node_size=20\n",
    "\n",
    "\n",
    "volume_count = {}\n",
    "import pprint as pp\n",
    "def generate_pod_graph(pods_data):\n",
    "    for pod in pods_data:\n",
    "        pod_name = pod.get('name')\n",
    "        nxg.add_node(pod_name,label=f\"{''.join(pod_name.split('-')[:-1])}\",shape='image', image = pod_img_url ,kind=\"pod\",size=node_size)\n",
    "        for volume in pod.get('volume'):\n",
    "            # volume_name = f\"{volume.get('name')}-{str(random_uuid)}\"\n",
    "            volume_name = f\"{volume.get('name')}\"\n",
    "\n",
    "            if 'projected' in volume.keys():\n",
    "                # print(pod_name)\n",
    "                nxg.add_node(volume_name,label=f\"Projected \\n{volume_name}\",shape='image', image = volume_img_url,kind=\"volume\",size=node_size)\n",
    "                nxg.add_edge(pod_name,volume_name,color=green) \n",
    "                projected_data = volume['projected']['sources']\n",
    "                projected_volumes = [ [k for k,v in proj_volume.items() if v != None] for proj_volume in projected_data]\n",
    "                projected_volumes = list(itertools.chain(*projected_volumes))\n",
    "                for projected_volume in projected_volumes:\n",
    "                    nxg.add_node(f\"{volume_name}-{projected_volume}\",label=f\"{projected_volume}\",shape='image', image = volume_img_url,kind=\"volume\",size=node_size)\n",
    "                    nxg.add_edge(volume_name,f\"{volume_name}-{projected_volume}\",color=green)    \n",
    "            else:                  \n",
    "                nxg.add_node(volume_name,label=f\"{volume_name}\",shape='image', image = volume_img_url,kind=\"volume\",size=node_size)\n",
    "                nxg.add_edge(pod_name,volume_name,color=green)        \n",
    "\n",
    "generate_pod_graph(all_pods_extract_data)\n",
    "\n",
    "g.from_nx(nxg)\n",
    "# pp.pprint(g.get_network_data())\n",
    "\n",
    "\n",
    "nxg2 = nx.Graph()\n",
    "print(dir(nxg2))\n",
    "\n",
    "# g.show(\"output.html\")\n",
    "    "
   ]
  },
  {
   "cell_type": "code",
   "execution_count": 8,
   "metadata": {},
   "outputs": [
    {
     "name": "stdout",
     "output_type": "stream",
     "text": [
      "null\n",
      "\n"
     ]
    }
   ],
   "source": [
    "import subprocess\n",
    "\n",
    "# Run the kubectl command and pipe the output to yq\n",
    "result = subprocess.run(\n",
    "    \"kubectl get pod ingress-nginx-controller-5fd8d8557c-jsm4b -n ingress-nginx -o yaml | yq eval '.spec.volumes'\",\n",
    "    shell=True,\n",
    "    stdout=subprocess.PIPE,\n",
    "    stderr=subprocess.PIPE\n",
    ")\n",
    "\n",
    "# Decode the output from bytes to string and print it\n",
    "output = result.stdout.decode()\n",
    "error = result.stderr.decode()\n",
    "\n",
    "if result.returncode == 0:\n",
    "    print(output)\n",
    "else:\n",
    "    print(\"Error:\", error)\n"
   ]
  },
  {
   "cell_type": "code",
   "execution_count": null,
   "metadata": {},
   "outputs": [],
   "source": []
  }
 ],
 "metadata": {
  "kernelspec": {
   "display_name": "Python 3 (ipykernel)",
   "language": "python",
   "name": "python3"
  },
  "language_info": {
   "codemirror_mode": {
    "name": "ipython",
    "version": 3
   },
   "file_extension": ".py",
   "mimetype": "text/x-python",
   "name": "python",
   "nbconvert_exporter": "python",
   "pygments_lexer": "ipython3",
   "version": "3.10.12"
  }
 },
 "nbformat": 4,
 "nbformat_minor": 4
}
